{
 "cells": [
  {
   "cell_type": "code",
   "execution_count": 1,
   "metadata": {},
   "outputs": [],
   "source": [
    "import sys\n",
    "sys.path.append(\"/cnvrg\")"
   ]
  },
  {
   "cell_type": "code",
   "execution_count": 19,
   "metadata": {},
   "outputs": [
    {
     "ename": "NameError",
     "evalue": "name 'yaml' is not defined",
     "traceback": [
      "\u001b[0;31m\u001b[0m",
      "\u001b[0;31mNameError\u001b[0mTraceback (most recent call last)",
      "\u001b[0;32m<ipython-input-19-62702cf646f7>\u001b[0m in \u001b[0;36m<module>\u001b[0;34m\u001b[0m\n\u001b[1;32m      3\u001b[0m \u001b[0moutfile\u001b[0m \u001b[0;34m=\u001b[0m \u001b[0;34m\"output/mhp_modanet_imaterialist_eval/images_sorted_by_%s.txt\"\u001b[0m \u001b[0;34m%\u001b[0m \u001b[0msort_by_key\u001b[0m\u001b[0;34m\u001b[0m\u001b[0;34m\u001b[0m\u001b[0m\n\u001b[1;32m      4\u001b[0m \u001b[0;34m\u001b[0m\u001b[0m\n\u001b[0;32m----> 5\u001b[0;31m \u001b[0mdata\u001b[0m \u001b[0;34m=\u001b[0m \u001b[0myaml\u001b[0m\u001b[0;34m.\u001b[0m\u001b[0mload\u001b[0m\u001b[0;34m(\u001b[0m\u001b[0mopen\u001b[0m\u001b[0;34m(\u001b[0m\u001b[0mresults_yaml_path\u001b[0m\u001b[0;34m,\u001b[0m \u001b[0;34m\"r\"\u001b[0m\u001b[0;34m)\u001b[0m\u001b[0;34m)\u001b[0m\u001b[0;34m\u001b[0m\u001b[0;34m\u001b[0m\u001b[0m\n\u001b[0m\u001b[1;32m      6\u001b[0m \u001b[0msorted_images\u001b[0m \u001b[0;34m=\u001b[0m \u001b[0msorted\u001b[0m\u001b[0;34m(\u001b[0m\u001b[0;34m[\u001b[0m\u001b[0;34m(\u001b[0m\u001b[0mv\u001b[0m\u001b[0;34m[\u001b[0m\u001b[0msort_by_key\u001b[0m\u001b[0;34m]\u001b[0m\u001b[0;34m,\u001b[0m \u001b[0mv\u001b[0m\u001b[0;34m[\u001b[0m\u001b[0;34m\"path\"\u001b[0m\u001b[0;34m]\u001b[0m\u001b[0;34m)\u001b[0m \u001b[0;32mfor\u001b[0m \u001b[0mk\u001b[0m\u001b[0;34m,\u001b[0m \u001b[0mv\u001b[0m \u001b[0;32min\u001b[0m \u001b[0mdata\u001b[0m\u001b[0;34m.\u001b[0m\u001b[0mitems\u001b[0m\u001b[0;34m(\u001b[0m\u001b[0;34m)\u001b[0m\u001b[0;34m]\u001b[0m\u001b[0;34m)\u001b[0m\u001b[0;34m\u001b[0m\u001b[0;34m\u001b[0m\u001b[0m\n\u001b[1;32m      7\u001b[0m \u001b[0;32mwith\u001b[0m \u001b[0mopen\u001b[0m\u001b[0;34m(\u001b[0m\u001b[0moutfile\u001b[0m\u001b[0;34m,\u001b[0m \u001b[0;34m\"w\"\u001b[0m\u001b[0;34m)\u001b[0m \u001b[0;32mas\u001b[0m \u001b[0mf\u001b[0m\u001b[0;34m:\u001b[0m\u001b[0;34m\u001b[0m\u001b[0;34m\u001b[0m\u001b[0m\n",
      "\u001b[0;31mNameError\u001b[0m: name 'yaml' is not defined"
     ],
     "output_type": "error"
    }
   ],
   "source": [
    "# code that saves a short version of the results for analysis. \n",
    "# Sort the images by a value: sort_by_key and save the (value, path) pairs to a txt file.\n",
    "import yaml\n",
    "\n",
    "sort_by_key = \"class_1_iou\"\n",
    "results_yaml_path = \"/cnvrg/output/mhp_modanet_imaterialist_eval/_results.yaml\"\n",
    "outfile = \"/cnvrg/output/mhp_modanet_imaterialist_eval/images_sorted_by_%s.txt\" % sort_by_key\n",
    "\n",
    "data = yaml.load(open(results_yaml_path, \"r\")) \n",
    "sorted_images = sorted([(v[sort_by_key], v[\"path\"]) for k, v in data.items()]) \n",
    "with open(outfile, \"w\") as f: \n",
    "    f.writelines([\"%.4f, %s\\n\" % (val, image_path) for val, image_path in sorted_images]) "
   ]
  },
  {
   "cell_type": "code",
   "execution_count": 3,
   "metadata": {},
   "outputs": [],
   "source": [
    "with open(\"/cnvrg/output/mhp_modanet_imaterialist_eval/images_sorted_by_class_1_iou.txt\", \"r\") as f:\n",
    "    iou_paths = [tuple(l.strip().split(\", \")) for l in f.readlines()]\n",
    "    iou_paths = [(float(val_path_pair[0]), val_path_pair[1]) for val_path_pair in iou_paths]\n",
    "    "
   ]
  },
  {
   "cell_type": "code",
   "execution_count": 8,
   "metadata": {},
   "outputs": [],
   "source": [
    "import matplotlib.pyplot as plt\n",
    "import numpy as np"
   ]
  },
  {
   "cell_type": "code",
   "execution_count": 10,
   "metadata": {},
   "outputs": [
    {
     "data": {
      "image/png": "[encoded data removed]",
      "text/plain": [
       "<Figure size 432x288 with 1 Axes>"
      ]
     },
     "metadata": {
      "needs_background": "light"
     },
     "output_type": "display_data"
    }
   ],
   "source": [
    "iou_vals = np.asarray([iou for iou, _ in iou_paths])\n",
    "plt.hist(iou_vals)\n",
    "plt.show()"
   ]
  },
  {
   "cell_type": "code",
   "execution_count": 27,
   "metadata": {},
   "outputs": [],
   "source": [
    "def how_many_below(iou_vals, t):\n",
    "    num_below = np.sum(iou_vals<t)\n",
    "    print(\"There are %d images below %.2f that are %.2f%% of the dataset.\" % (num_below, t, 100*num_below/len(iou_vals)))\n"
   ]
  },
  {
   "cell_type": "code",
   "execution_count": 28,
   "metadata": {},
   "outputs": [
    {
     "name": "stdout",
     "output_type": "stream",
     "text": [
      "There are 43272 images below 0.90 that are 36.73% of the dataset.\n",
      "There are 17084 images below 0.80 that are 14.50% of the dataset.\n",
      "There are 9582 images below 0.70 that are 8.13% of the dataset.\n",
      "There are 6192 images below 0.60 that are 5.26% of the dataset.\n",
      "There are 4507 images below 0.50 that are 3.83% of the dataset.\n"
     ]
    }
   ],
   "source": [
    "how_many_below(iou_vals, 0.9)\n",
    "how_many_below(iou_vals, 0.8)\n",
    "how_many_below(iou_vals, 0.7)\n",
    "how_many_below(iou_vals, 0.6)\n",
    "how_many_below(iou_vals, 0.5)"
   ]
  },
  {
   "cell_type": "code",
   "execution_count": 55,
   "metadata": {},
   "outputs": [],
   "source": [
    "from visualizer.visualize import vis_segmentation \n",
    "import cv2, os\n",
    "all_masks_path = \"/data/mhp_modanet_imaterialist/masks\"\n",
    "output_dir = \"/cnvrg/output/mhp_modanet_imaterialist_eval/top_100_worst\"\n",
    "output_images_dir = \"/cnvrg/output/mhp_modanet_imaterialist_eval/top_100_worst_dataset/images\"\n",
    "output_masks_dir = \"/cnvrg/output/mhp_modanet_imaterialist_eval/top_100_worst_dataset/masks\"\n",
    "os.makedirs(output_dir, exist_ok=True)\n",
    "os.makedirs(output_images_dir, exist_ok=True)\n",
    "os.makedirs(output_masks_dir, exist_ok=True)"
   ]
  },
  {
   "cell_type": "code",
   "execution_count": 56,
   "metadata": {},
   "outputs": [],
   "source": [
    "for i in range(100):\n",
    "    val, image_path = iou_paths[i]\n",
    "    basename = os.path.splitext(os.path.basename(image_path))[0]\n",
    "    mask_path = os.path.join(all_masks_path, basename + \".png\")\n",
    "    \n",
    "    image = cv2.cvtColor(cv2.imread(image_path), cv2.COLOR_BGR2RGB)\n",
    "    mask = cv2.cvtColor(cv2.imread(mask_path), cv2.COLOR_BGR2GRAY)\n",
    "    vis_segmentation(image,\n",
    "                     seg_map=mask,\n",
    "                     filename=os.path.join(output_dir, basename + \".png\"),\n",
    "                     label_names=[\"background\", \"clothes\"],\n",
    "                     show_plot=False,\n",
    "                     max_image_dim=1024,\n",
    "                     background_class=True,\n",
    "                     title=\"iou: %.4f\" % val)\n",
    "    cv2.imwrite(os.path.join(output_images_dir, basename + \".png\"), cv2.cvtColor(image, cv2.COLOR_RGB2BGR))\n",
    "    cv2.imwrite(os.path.join(output_masks_dir, basename + \".png\"), mask)\n",
    "    \n",
    "    "
   ]
  },
  {
   "cell_type": "code",
   "execution_count": null,
   "metadata": {},
   "outputs": [],
   "source": []
  }
 ],
 "metadata": {
  "kernelspec": {
   "display_name": "Python 3",
   "language": "python",
   "name": "python3"
  },
  "language_info": {
   "codemirror_mode": {
    "name": "ipython",
    "version": 3
   },
   "file_extension": ".py",
   "mimetype": "text/x-python",
   "name": "python",
   "nbconvert_exporter": "python",
   "pygments_lexer": "ipython3",
   "version": "3.6.9"
  }
 },
 "nbformat": 4,
 "nbformat_minor": 4
}
